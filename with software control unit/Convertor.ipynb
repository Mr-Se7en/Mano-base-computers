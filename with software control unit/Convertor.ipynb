{
 "cells": [
  {
   "cell_type": "code",
   "execution_count": 1,
   "metadata": {},
   "outputs": [
    {
     "name": "stdout",
     "output_type": "stream",
     "text": [
      "Conversion complete. Output saved to output.txt\n"
     ]
    }
   ],
   "source": [
    "def binary_to_hex_file(input_file, output_file):\n",
    "    try:\n",
    "        # Open the input file for reading\n",
    "        with open(input_file, 'r') as infile:\n",
    "            # Open the output file for writing\n",
    "            with open(output_file, 'w') as outfile:\n",
    "                # Read the file line by line\n",
    "                for line in infile:\n",
    "                    # Strip any leading/trailing whitespace\n",
    "                    stripped_line = line.strip()\n",
    "                    if stripped_line:  # If the line is not empty\n",
    "                        try:\n",
    "                            # Convert binary to hexadecimal\n",
    "                            hex_value = hex(int(stripped_line, 2))[2:].upper()\n",
    "                            outfile.write(hex_value + '\\n')\n",
    "                        except ValueError:\n",
    "                            # Handle invalid binary sequences\n",
    "                            print(f\"Invalid binary sequence found: {stripped_line}\")\n",
    "                    else:\n",
    "                        # Preserve empty lines\n",
    "                        outfile.write('\\n')\n",
    "        print(f\"Conversion complete. Output saved to {output_file}\")\n",
    "    except FileNotFoundError:\n",
    "        print(f\"Error: {input_file} not found.\")\n",
    "    except Exception as e:\n",
    "        print(f\"An error occurred: {e}\")\n",
    "\n",
    "\n",
    "# Specify the input and output file paths\n",
    "input_file_path = \"CU mem.txt\"  # Replace with your input file path\n",
    "output_file_path = \"output.txt\"  # Replace with your output file path\n",
    "\n",
    "# Call the function\n",
    "binary_to_hex_file(input_file_path, output_file_path)\n"
   ]
  }
 ],
 "metadata": {
  "kernelspec": {
   "display_name": "Python 3",
   "language": "python",
   "name": "python3"
  },
  "language_info": {
   "codemirror_mode": {
    "name": "ipython",
    "version": 3
   },
   "file_extension": ".py",
   "mimetype": "text/x-python",
   "name": "python",
   "nbconvert_exporter": "python",
   "pygments_lexer": "ipython3",
   "version": "3.9.13"
  }
 },
 "nbformat": 4,
 "nbformat_minor": 2
}
